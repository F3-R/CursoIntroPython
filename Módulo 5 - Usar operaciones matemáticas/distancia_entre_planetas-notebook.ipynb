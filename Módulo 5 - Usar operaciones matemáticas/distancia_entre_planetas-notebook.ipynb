{
 "cells": [
  {
   "cell_type": "markdown",
   "metadata": {},
   "source": [
    "# Distancia entre planetas"
   ]
  },
  {
   "cell_type": "code",
   "execution_count": 1,
   "metadata": {},
   "outputs": [],
   "source": [
    "# Almacenar las entradas del usuario\n",
    "#Pista: variable = input(\"¿Cuál es tu nombre?\")\n",
    "planeta1 = input(\"¿Cuál es la distancia en km del sol a tu primer planeta?\")\n",
    "planeta2 = input(\"¿Cuál es la distancia en km del sol a tu segundo planeta?\")"
   ]
  },
  {
   "cell_type": "code",
   "execution_count": 2,
   "metadata": {},
   "outputs": [],
   "source": [
    "# Convierte las cadenas de ambos planetas a números enteros\n",
    "planeta1_km = int(planeta1)\n",
    "planeta2_km = int(planeta2)"
   ]
  },
  {
   "cell_type": "code",
   "execution_count": 4,
   "metadata": {},
   "outputs": [
    {
     "name": "stdout",
     "output_type": "stream",
     "text": [
      "250\n",
      "155.25\n",
      "Distancia entre tu primer y segundo planetas:\n",
      "En metros: 250 kilómetros\n",
      "En millas: 155 millas\n"
     ]
    }
   ],
   "source": [
    "milla_en_km = 0.621\n",
    "# Realizar el cálculo y determinar el valor absoluto\n",
    "diferencia = abs(planeta1_km - planeta2_km)\n",
    "\n",
    "# Convertir de KM a Millas\n",
    "diferencia_millas = diferencia * milla_en_km\n",
    "\n",
    "print(diferencia)\n",
    "print(diferencia_millas)\n",
    "\n",
    "print(\"Distancia entre tu primer y segundo planetas:\")\n",
    "diferencia = abs(planeta1_km - planeta2_km)\n",
    "print(f\"En metros: {diferencia} kilómetros\")\n",
    "print(f\"En millas: {round(diferencia * milla_en_km)} millas\")"
   ]
  }
 ],
 "metadata": {
  "interpreter": {
   "hash": "08aa3f411bf6f9b66093dafcfe774a0bb3813f6f3fb608855b7123409b609db7"
  },
  "kernelspec": {
   "display_name": "Python 3.9.10 64-bit (windows store)",
   "language": "python",
   "name": "python3"
  },
  "language_info": {
   "codemirror_mode": {
    "name": "ipython",
    "version": 3
   },
   "file_extension": ".py",
   "mimetype": "text/x-python",
   "name": "python",
   "nbconvert_exporter": "python",
   "pygments_lexer": "ipython3",
   "version": "3.9.10"
  },
  "orig_nbformat": 4
 },
 "nbformat": 4,
 "nbformat_minor": 2
}
